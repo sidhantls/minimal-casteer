{
 "cells": [
  {
   "cell_type": "markdown",
   "id": "wRzNmdPpX7gg",
   "metadata": {
    "id": "wRzNmdPpX7gg"
   },
   "source": [
    "# Minimal CASteer Tutorial\n",
    "Demonstrates activation steering with Stable Diffusion XL."
   ]
  },
  {
   "cell_type": "markdown",
   "id": "dBMlLw8-X7gh",
   "metadata": {
    "id": "dBMlLw8-X7gh"
   },
   "source": [
    "## Setup\n",
    "Load the pipeline and helper functions."
   ]
  },
  {
   "cell_type": "code",
   "execution_count": null,
   "id": "7vWAUMXxj8KL",
   "metadata": {
    "id": "7vWAUMXxj8KL"
   },
   "outputs": [],
   "source": [
    "import os\n",
    "import re\n",
    "import random\n",
    "import matplotlib.pyplot as plt\n",
    "import matplotlib.image as mpimg\n",
    "import os\n"
   ]
  },
  {
   "cell_type": "code",
   "execution_count": null,
   "id": "zmTqQ50cYZXz",
   "metadata": {
    "colab": {
     "base_uri": "https://localhost:8080/"
    },
    "id": "zmTqQ50cYZXz",
    "outputId": "8eba70c6-941d-44c5-a527-8e0be86eae42"
   },
   "outputs": [],
   "source": [
    "!git clone https://github.com/sidhantls/minimal-casteer\n",
    "%cd minimal-casteer\n",
    "! git pull origin main"
   ]
  },
  {
   "cell_type": "code",
   "execution_count": null,
   "id": "i3qsUzlrX7gi",
   "metadata": {
    "colab": {
     "base_uri": "https://localhost:8080/",
     "height": 767,
     "referenced_widgets": [
      "d29addc7efee4724a4db21e07729089b",
      "53b0e862b8b54804913fab3e4196d9b2",
      "6c66c2237b3642c9b2a66fdaec9c21e2",
      "0376367fdff84a25b741f57202b3a46a",
      "735a036ceed646a18a2bc35d5918220c",
      "3af3f7990afb471499616c6db4787dc7",
      "bb85283b55af43898a041d4821af1638",
      "c54e5e2337834036aa0d011bfdbac315",
      "c98683c07e1c4e928b1c9cdd39410e3b",
      "98c1e40f16294e04a9b17112c4aeb69b",
      "df034d435c214456929b4ade9ecd55f3",
      "b0c469f55786476ca33f881f2fb522f3",
      "ee8ea04a2a2a4cdf8b97097688da7de7",
      "24faaf7dbdb048b1acbd2eadf76ef33b",
      "288e6d484faa4dc2b29f6be53f0dfe6a",
      "7880ffede6fa4b90be2879cceeddaa57",
      "eb2891272dc3471bb5ea17c1ba81548c",
      "68fd5c803859482986d8f5baa91e1226",
      "c0d12ce844d54771a628d8f13d6865fb",
      "986ae0518bbf41f58e1ec367493b0ada",
      "338494322c8248818b17814880b36b41",
      "6d2b03a84d5246dbb8e66300a0e0cba7",
      "8ba68a25e4b94afc95ca9bac3ea6731c",
      "cf64aea2493e47028ec7050d34721d1b",
      "30d41f61b6d54d228e67983fed7fcbb9",
      "7a698739bff54d7490a53cf837956782",
      "f3964c0154b54994b0f2114611b13283",
      "a67e40b5eaf3434abe2e54ad67a3fc91",
      "c31d075d7a8844beb8373d0eb61e916f",
      "ab93f3d6d3654ed195e64a99440c90ff",
      "e0ca4851554f46a8a3261d5f310d5a75",
      "073ad0dc26aa4ede9844365479d28f08",
      "62435375b1b641b584a30f42641eb0d3",
      "437de1620059462eb91120bfbb020de9",
      "fc50ae61779d48638636bbd235015834",
      "fa499f6c09834ce5a62f1aaa094d309c",
      "c92eb964444f430b95f263d6da23a580",
      "ded376cce43d421cb26b43ff42b71bbf",
      "999b0e930f394ef8b8c9461035d7e1be",
      "8ccecc004ce647008fb613e38fc6ef00",
      "0240000c19544e029df9303fa18ce64b",
      "e7e5e20a84894f2791e5e1bf95c2159b",
      "3ae1abe9510b4df4812d6c0222e76bf9",
      "0368ceccad734d8bb20153953d1f8bb7",
      "1dc3a78279e4417b8de74797358c152a",
      "06e1453e5e7d4b31a6435a7bb4334e69",
      "d066b8eb693f4064b06a5c743733128e",
      "e98386ea88ca4115a68431e70e05fd7e",
      "051f0af5e38f47c997fbcfe1e218ea47",
      "af805650c341404482c9bc63b426a1f0",
      "ab7bccdd548849b88bb667accab36b3c",
      "76c68b60a86644c68cd80fc23260863c",
      "b115c467864949e68bc8ea5741bf0e71",
      "f23a05014e06432a987e0bdc6ed6a349",
      "ab73abbcb7ef4ffaa6abdcea6374548c",
      "da6d43b987564a39855a48f1c15915f9",
      "3774057b281d48faa73f7e8999b06f9c",
      "ecb962eb9a124366b9b75daccf22426c",
      "e37b9b8bbdd246dd9bf34af9d23deb5f",
      "da661b030aff40168ea7cd8112aa8d06",
      "7c307a2e2ee8488ab84d5c4fbb6c4317",
      "68e098564d3142b1adfa08e34897a938",
      "e6f4231b899f4157af5ddcc7647fe24e",
      "18257496c6db4ac9be4d49593a2c3e74",
      "437ffb53d6eb47dab20843803df7cb3f",
      "27e3a1b9e36843828bfc3d228a509959",
      "5f53b45d31ec4622a9fbf114be68e394",
      "05fb9574a2e24e34a22559b48bc69a3c",
      "89c62a605d7a42648ccebea8446e22b3",
      "95a61279bdff446580d967f3a3c9a3be",
      "d05457eb9f6141da92ee41be1932cfda",
      "096e4da31dcf40cdb4b69fba79e530a5",
      "ad5d402c6f234d1899bfba2c8714129f",
      "4eafc3b46b2e452b89f3018515886d13",
      "c5b8585cb4bc4e46962175809484d634",
      "0d72cb13f6f04b5a9d3b369aa5340c68",
      "8bcf79634b5d4f0cb53e9c43c7e7060f",
      "e9c10060bea54213950b15c006e1f3cf",
      "ba69002abfa34a4ca80544c63ade983f",
      "92fedcaf2bdd4d078d7a34e90a79de14",
      "5eab22fd0bd44fbc84079df4c3291912",
      "5fae19a0b2a94f408d4cabd9b7cc5566",
      "194fbef1986648c8be1edcbebac87322",
      "07f407c873f248df873ce29a6e5027a3",
      "f1450b6b396a4cc8964fc288d3225a75",
      "e2ad2d6393214f0b9686203dd9804e98",
      "8ce9ffb787054c76a0b60ae9b2db74c2",
      "c2bc11cdcb6c4a509316120ee81f0d26",
      "30ff7531193745bfbe0b217e02ecf5e3",
      "979683e4978c43af9ceb0d6e7fbdda93",
      "2e8c9e9b23e949bb8b8a9fcf7e1ba7ec",
      "dd92e3a8a76c42d2b424c8acfe8261d1",
      "8eee4c11f1394350a302a9ccdc7d6bd6",
      "e44519b29a2d457b9caef0b15c7e9608",
      "0883ffd930c443f6a913d26f7c6ceea6",
      "789fce8d1d72478f9227a1fa9d59752d",
      "280ee1ed48e54d5fa7d5bfd6e43b0866",
      "88eef2a9f76c41de9ed0d544bb1a1f4a",
      "b0336c9482ea41939c1ef085389a8267",
      "67718ec051bf4cc4ac0048fb0ef9344d",
      "0f603b8935754351bfdb8f26f327824a",
      "881ed3a628dd469ea4756e8649b613f1",
      "0ff83bb5240f4430864157904a76b329",
      "8e54a1fd4ccd480aa710cfa05b9dbd25",
      "00cc1f6414144a3d88189879dc0a7659",
      "51b95f1915b74d1fafe31c437293b0d4",
      "7b39c678bcb34f5db600354cf9a43c06",
      "f59c318986b5460394b1f9dfb132fc24",
      "fec748f34cd64c5391ce6ac9259c2018",
      "37b3ab231df347688193cadfcdead5be",
      "85a4639162ba48669a6f9d5fce60848d",
      "d96da40d4165447499ef4d088fe269cf",
      "797b500c643a4e46acec5bb2d52cd3fb",
      "4f19305d47fe4df2be1903a335b8940b",
      "231fde6883b14fcc87b6d9f2c2828bd4",
      "69d56ef040c040c5a57c80187817dc61",
      "c1c1392195984a159b4753a8356c53c9",
      "3091bfd68ddf4f69bac62ee927a57d0b",
      "38d3e24ca9a64b49b75612c59368caf8",
      "4567073c613f4033bda9db4f668d1712",
      "664002647a35462cae479f3b3d4d23d1",
      "089ec7ba4fce40d3b292ce75bcc16af4",
      "71376803df094ef1a6425407a3ce3623",
      "b9a95823b2bb4eb580b7bc45a8e777fe",
      "33cbcf0fcb7a422b9c26c8547ca61b54",
      "7f65e2e7b5894f15984acd386ddd4d02",
      "89520efbbf334a34b87d2e070627361c",
      "1ea3fc2820c944f48a954380a1ed1fb1",
      "3848ee1013d74983a0f94e9d014c8a4a",
      "dc9d247168e145d08bccde3f60cb9c41",
      "562df0faa3d94cd4bed120b89c72e306",
      "0e589c982e344fd0ac7b4746ab7f8d38",
      "95a8103005b94deeb10ef640fee1d299",
      "1d2791b1493e497eae9f1d713c93c148",
      "da07a170be934777a7bbc667f0f958b8",
      "bb10a711ca094ea593b3b06aa8a49638",
      "fbd7fec1ee654fdcbbec60455156cc1f",
      "c309ff5461e34b1c923881e0af6cdf90",
      "f8b3c024b5914cf784113507438a1c09",
      "72ad829fe51249c7948b020048e65777",
      "6d7af32281414b75bf49d48c7eac2bea",
      "badcca3093544b2faaa79c3a196fee7b",
      "2537f356a5a943efb758593b49fdc429",
      "edf8d416159046f9928599c5ba44c8c8",
      "74e1dcc7b4d244cda8a60e9f2b2b8ba4",
      "95ec30857c2e47e0b7c8bd3223f12f75",
      "320ab03cdc64481fb759f1b391f9b74a",
      "27ec7048b66446229fae54f71fb63693",
      "5bcc72e108c347e5abdba79a58b1c592",
      "be5daf734d9849f9bc8264ebec6f0160",
      "75590ea7dd8d47049edcc0695292df1b",
      "f6a7b8a2fa7148c993fd8bf326db81d3",
      "27044c1a82c9491ab5d65e182ea35ad8",
      "c0831e5261e74e798e2dc7086bde0a99",
      "6f71e69aed9046e09f65ca5c62f7ddd1",
      "026fe18738754448b80961564fe9de53",
      "6c728234f62c4d978897f997f30146d1",
      "e04aa46a055549d19225f6d07424ccef",
      "08951fed870446e1ba0255c65594a398",
      "17517d8795484f45b78457c0819e59a7",
      "166d5777336c46d58162f5bc0bddffe4",
      "d716441352fa49f1a142bab1fb461300",
      "4c10fa74d9124545b3ff7e3e586d006b",
      "0054a99011134f72ad427f77f5d0e161",
      "f6e34184e1014617ac132a81fd525229",
      "30920abb684a49859898dfc4d792ee75",
      "094003734cdb4605b1274ff6e43e16cb",
      "5138527ea5c24d1daa1e8f6787dd7ee4",
      "11babfd36e604d0085ceacdb6e8d58d5",
      "1641df749c6140a7a9a69783e36e7ac3",
      "043bd669c72c4e02a57d6ee4448a3db0",
      "4e2517110ed049598c39d24478e7f16b",
      "be1ffd9dc4a445949e2122d5eac8f39a",
      "0e38255f6dd24e108cc4140b2db16138",
      "44dccbc148794529a6a0b1c7568bbfe3",
      "f2d72a4839a44620a3dd102d1200a6b6",
      "9745b001e6104fa683c2dc99b56880b3",
      "29b7be21d7e648488dfb39c1c2350b48",
      "fbbd25602db94654ae9ebd78e842a50d",
      "84b8ec88d96043979ce40d2aa0e85cbd",
      "7e31e4dc2ae24504b6425fb01e46ae66",
      "6ac317abb3a94a1eb08128c54dcc7a8f",
      "bf00d7f06895453f935e6cfa00383bb0",
      "f3b99e9fca754e4c8765d30660446e56",
      "c3ebce6067ee47c3bc1f032e3d98efa1",
      "1cc3ff24b8d6491385218d9d8a5db185",
      "f2e53ff925c842bab70a3a14472bf4a9",
      "2a69fd5df7384401af504b21368b2070",
      "fbe5c6265c6f402886f5cf5cd6194f85",
      "75ac403e749b45ea848d4a514d913de1",
      "cd850a290487401bafb09583b0843aa3",
      "fb75c7858b624e019628a0ae55b459e3",
      "7013966a5bec4e7b8edd0cf2fc8ab6db",
      "ea52401d583442509a028af098be499c",
      "ec514cf0244447b7bb5f709e63dd7510",
      "6207e0b73a30458399d2536abc663963",
      "ab2f2de132ab44f89d149207185519d3",
      "617a4a11f88b44df9b56bd0f39827fac",
      "136b6f1587584eb69885beead39f04db",
      "5ad979d19ebe47c4b499cb71978f84c4",
      "ba81287b76aa4460b284e6226b66a7a1",
      "b6f116d07e174191b3255b5e3baae750",
      "7405671b14f14d1fa7e92c3d6e6ef21c",
      "8691d1d72328462eb073bc5c214864a4",
      "dc36907e8fd44011805bb8dc4f56ace5",
      "d05c5075cafb4126ba1ad5167a5210bc",
      "db168eed351b46d891777c3d3fb2db4d",
      "533d016df324498c95cae731a67f5c4f",
      "2fc295a6bb8f4b989576c4552e60077e"
     ]
    },
    "id": "i3qsUzlrX7gi",
    "outputId": "1d7325c0-4c08-4b30-c644-61c18ef00dda"
   },
   "outputs": [],
   "source": [
    "from diffusers import StableDiffusionXLPipeline\n",
    "import torch\n",
    "import steering\n",
    "import prompt_catalog\n",
    "\n",
    "pipe = StableDiffusionXLPipeline.from_pretrained(\n",
    "    \"stabilityai/stable-diffusion-xl-base-1.0\",\n",
    "    torch_dtype=torch.float16,\n",
    "    generator=torch.Generator().manual_seed(0),\n",
    ")\n",
    "pipe.to(\"cuda\")\n",
    "pipe.set_progress_bar_config(disable=True)\n"
   ]
  },
  {
   "cell_type": "markdown",
   "id": "Vtag_prUX7gi",
   "metadata": {
    "id": "Vtag_prUX7gi"
   },
   "source": [
    "## Hyperparameters\n",
    "Basic settings for steering."
   ]
  },
  {
   "cell_type": "code",
   "execution_count": null,
   "id": "5RL8FpZNX7gi",
   "metadata": {
    "id": "5RL8FpZNX7gi"
   },
   "outputs": [],
   "source": [
    "STEER_TYPE = \"default\"\n",
    "INF_STEPS = 20\n",
    "GUIDE_SCALE = 5.0\n",
    "PROMPT_THEME = \"anime\" # can be metal or anime\n"
   ]
  },
  {
   "cell_type": "markdown",
   "id": "5ReLuZYUX7gj",
   "metadata": {
    "id": "5ReLuZYUX7gj"
   },
   "source": [
    "## Build and apply steering vectors\n",
    "\n",
    "To guide a model’s generation toward or away from a target attribute, we will construct **steering vectors**. The process involves four steps:\n",
    "\n",
    "1. **Create prompt pairs**  \n",
    "   We start by defining two sets of prompts:  \n",
    "   - **Positive prompts** that contain the target attribute (e.g., “box turtle, anime style\").  \n",
    "   - **Baseline prompts** that are matched but neutral (e.g., \"box turtle\").  \n",
    "   These pairs allow us to isolate the effect of the attribute by controlling for context.\n",
    "\n",
    "2. **Cache conditional activations**  \n",
    "   For each prompt, we record the model’s hidden activations at a chosen layer. This caching step is crucial because we want to compare how the internal representations differ between positive and baseline prompts. Efficient caching avoids recomputation during training or experimentation.\n",
    "\n",
    "3. **Calculate steering vectors**  \n",
    "   The steering vector is defined as the difference between the average hidden activations of the positive and baseline prompts:  \n",
    "$$\n",
    "v = \\frac{1}{N} \\sum_{i=1}^N h(x_i^{+}) - \\frac{1}{M} \\sum_{j=1}^M h(x_j^{-})\n",
    "$$\n",
    "\n",
    "\n",
    "   where \\(h(x)\\) is the activation of prompt \\(x\\) at the chosen layer, \\(x_i^{+}\\) are positive prompts, and \\(x_j^{-}\\) are baseline prompts.  \n",
    "   This vector \\(v\\) represents the “direction” in activation space corresponding to the target attribute ([Meng et al., 2025](https://arxiv.org/abs/2503.09630)).\n",
    "\n",
    "4. **Register steering vectors**  \n",
    "   Finally, we apply the steering vector during generation. At each forward pass, we adjust the hidden activations by adding or subtracting a scaled version of \\(v\\):  \n",
    "\n",
    "$$\n",
    "   h'(x) = h(x) + \\alpha v\n",
    "$$\n",
    "\n",
    "\n",
    "   where $\\alpha$ controls the strength of steering. Positive $\\alpha$ amplifies the attribute, while negative $\\alpha$ suppresses it.\n"
   ]
  },
  {
   "cell_type": "markdown",
   "id": "LtDVQ-YKX7gj",
   "metadata": {
    "id": "LtDVQ-YKX7gj"
   },
   "source": [
    "### Create prompt pairs\n",
    "Each pair contains a steered prompt and a neutral prompt. Feel free to swap in your own themes.\n"
   ]
  },
  {
   "cell_type": "code",
   "execution_count": null,
   "id": "MnlJia0vX7gj",
   "metadata": {
    "colab": {
     "base_uri": "https://localhost:8080/"
    },
    "id": "MnlJia0vX7gj",
    "outputId": "fed2a1ea-7c77-42e2-833f-cef65591f2bf"
   },
   "outputs": [],
   "source": [
    "if PROMPT_THEME == \"anime\":\n",
    "    prompts = prompt_catalog.ANIME_PROMPT[:20]\n",
    "elif PROMPT_THEME == \"metal\":\n",
    "    prompts = prompt_catalog.METALLIC_SCULPTURE_SET[:20]\n",
    "else:\n",
    "    raise NotImplementedError(f\"Prompt theme {PROMPT_THEME} not implemented\")\n",
    "\n",
    "print('Example of the prompts:\\n')\n",
    "for p in prompts[:5]:\n",
    "  print(p)\n"
   ]
  },
  {
   "cell_type": "markdown",
   "id": "rymrHSLqX7gj",
   "metadata": {
    "id": "rymrHSLqX7gj"
   },
   "source": [
    "### Attach steer hooks\n",
    "`add_steer_hooks` registers forward hooks on attention layers to cache activations.\n"
   ]
  },
  {
   "cell_type": "code",
   "execution_count": null,
   "id": "zXljJt_dX7gk",
   "metadata": {
    "colab": {
     "base_uri": "https://localhost:8080/"
    },
    "id": "zXljJt_dX7gk",
    "outputId": "78895599-38c9-4f90-fe32-91bad59305b1"
   },
   "outputs": [],
   "source": [
    "steer_hooks = steering.add_steer_hooks(\n",
    "    pipe,\n",
    "    steer_type=STEER_TYPE,\n",
    "    save_every=1,\n",
    ")\n"
   ]
  },
  {
   "cell_type": "markdown",
   "id": "_asLN678X7gk",
   "metadata": {
    "id": "_asLN678X7gk"
   },
   "source": [
    "### Build steering vector\n",
    "Run the prompt pairs through the model to compute the conditional activation differences.\n"
   ]
  },
  {
   "cell_type": "code",
   "execution_count": null,
   "id": "bfqbRWP2X7gk",
   "metadata": {
    "colab": {
     "base_uri": "https://localhost:8080/",
     "height": 84,
     "referenced_widgets": [
      "ed198100f36340ee9b82afc1aa5d5ea5",
      "cae7689e6fe445a09495ae83148e1890",
      "0b03ee7e0bb242d491201a93afc88a59",
      "ee44bc909acb4c28be151201e48a113d",
      "747aedcc69cf48bfa2d0c38b652bc8cd",
      "eeec7e6c2a834688b9efe5f53b7a5515",
      "bab0bffda33240c2a880dc2474fa41a1",
      "bc3d40f8705e469ba42d0deab9af2201",
      "f151f504852b44e5954640751f79fd46",
      "12830a9edc214c9a8638087887be5760",
      "80938e16d50442a6a984bfa4ce71273a"
     ]
    },
    "id": "bfqbRWP2X7gk",
    "outputId": "b84013da-f4a2-4cc5-e6f7-82b31add0ccb"
   },
   "outputs": [],
   "source": [
    "final_vecs = steering.build_final_steering_vectors(\n",
    "    pipe,\n",
    "    steer_hooks,\n",
    "    prompts,\n",
    "    num_inference_steps=INF_STEPS,\n",
    "    guidance_scale=GUIDE_SCALE,\n",
    ")\n",
    "print(final_vecs[0].shape)\n"
   ]
  },
  {
   "cell_type": "markdown",
   "id": "pNtGB6F3X7gk",
   "metadata": {
    "id": "pNtGB6F3X7gk"
   },
   "source": [
    "### Register steering vector\n",
    "Attach the computed vectors so they influence future generations.\n"
   ]
  },
  {
   "cell_type": "code",
   "execution_count": null,
   "id": "z7xQlFkOX7gk",
   "metadata": {
    "colab": {
     "base_uri": "https://localhost:8080/"
    },
    "id": "z7xQlFkOX7gk",
    "outputId": "3fcd5dd4-00ca-4be8-a74f-fb5b78525e26"
   },
   "outputs": [],
   "source": [
    "steering.add_final_steer_vectors(steer_hooks, final_vecs)\n"
   ]
  },
  {
   "cell_type": "markdown",
   "id": "ekfw8nW_X7gk",
   "metadata": {
    "id": "ekfw8nW_X7gk"
   },
   "source": [
    "## Generate images\n",
    "Apply the steering vectors to new prompts and compare results."
   ]
  },
  {
   "cell_type": "code",
   "execution_count": null,
   "id": "FFKZ9K25X7gk",
   "metadata": {
    "colab": {
     "base_uri": "https://localhost:8080/"
    },
    "id": "FFKZ9K25X7gk",
    "outputId": "24fc23a3-5981-4664-805e-6653647b985c"
   },
   "outputs": [],
   "source": [
    "TEST_PROMPTS = [\n",
    "    \"Studio-lit Batman logo on a plain background, 4K detail.\",\n",
    "    \"Cinematic close-up of Batman's face, dramatic shadows across the cowl, ultra-detailed, 4K.\",\n",
    "    \"Close-up of a labrador sitting.\",\n",
    "    \"Portrait of an Apple.\",\n",
    "    \"Close-up of a amicable robot face, made of plastic, with a neural expression.\",\n",
    "    \"Portrait of a carved pumpkin jack-o’-lantern with a neural expression, dramatic lighting.\",\n",
    "    \"Cinematic portrait of an astronaut with reflective visor, stars and Earth visible, ultra-detailed.\",\n",
    "    \"Minimalist black-and-white sketch of a cat stretching.\",\n",
    "]\n",
    "\n",
    "STEER_SCALE_LIST = [0.0, 2.0, 5.0, 10.0] # various steering strengths. 0.0 is baseline image\n",
    "steering.run_grid_experiment(\n",
    "    pipe,\n",
    "    steer_hooks,\n",
    "    TEST_PROMPTS,\n",
    "    num_inference_steps=INF_STEPS,\n",
    "    steer_type=STEER_TYPE,\n",
    "    gscale_list=[GUIDE_SCALE],\n",
    "    steer_scale_list=STEER_SCALE_LIST,\n",
    "    out_root=f\"{PROMPT_THEME}_experiments\",\n",
    ")\n"
   ]
  },
  {
   "cell_type": "markdown",
   "id": "3vEiS8z5escv",
   "metadata": {
    "id": "3vEiS8z5escv"
   },
   "source": [
    "## Plot Images"
   ]
  },
  {
   "cell_type": "markdown",
   "id": "szlwoMd8lj_O",
   "metadata": {
    "id": "szlwoMd8lj_O"
   },
   "source": [
    "### Utils"
   ]
  },
  {
   "cell_type": "code",
   "execution_count": null,
   "id": "GrHYVtvneIJD",
   "metadata": {
    "id": "GrHYVtvneIJD"
   },
   "outputs": [],
   "source": [
    "import os\n",
    "import re\n",
    "import matplotlib.pyplot as plt\n",
    "import matplotlib.image as mpimg\n",
    "\n",
    "def extract_steer_value(folder_name: str) -> float:\n",
    "    \"\"\"Extracts the steer value from a folder name like steps=20_guide=5.0_steer=0.5_type=default.\"\"\"\n",
    "    match = re.search(r\"steer=([0-9]*\\.?[0-9]+)\", folder_name)\n",
    "    return float(match.group(1)) if match else float(\"inf\")\n",
    "\n",
    "def plot_all_param_images(base_folder: str, save_dir: str = \"plots_output\"):\n",
    "    \"\"\"\n",
    "    For each unique filename across param folders, plot horizontally across all\n",
    "    steer values and save the plot.\n",
    "\n",
    "    Args:\n",
    "        base_folder (str): Path to the experiments folder (e.g. 'metal_experiments').\n",
    "        save_dir (str): Folder where plots will be saved.\n",
    "\n",
    "    Returns:\n",
    "        List[str]: Filenames of saved plots.\n",
    "    \"\"\"\n",
    "    os.makedirs(save_dir, exist_ok=True)\n",
    "\n",
    "    # list all param subfolders\n",
    "    param_folders = [os.path.join(base_folder, f) for f in os.listdir(base_folder)\n",
    "                     if os.path.isdir(os.path.join(base_folder, f))]\n",
    "\n",
    "    if not param_folders:\n",
    "        raise ValueError(\"No param folders found in base folder.\")\n",
    "\n",
    "    # sort by steer value\n",
    "    param_folders.sort(key=lambda x: extract_steer_value(os.path.basename(x)))\n",
    "\n",
    "    # collect all unique filenames from the first folder\n",
    "    sample_files = [f for f in os.listdir(param_folders[0]) if f.lower().endswith((\".jpg\", \".png\"))]\n",
    "    if not sample_files:\n",
    "        raise ValueError(\"No images found in param folders.\")\n",
    "\n",
    "    saved_plots = []\n",
    "\n",
    "    # loop through all unique filenames\n",
    "    for chosen_file in sample_files:\n",
    "        images = []\n",
    "        labels = []\n",
    "        for pf in param_folders:\n",
    "            img_path = os.path.join(pf, chosen_file)\n",
    "            if os.path.exists(img_path):\n",
    "                images.append(mpimg.imread(img_path))\n",
    "                labels.append(os.path.basename(pf))\n",
    "\n",
    "        if not images:\n",
    "            continue\n",
    "\n",
    "        # plot horizontally\n",
    "        n = len(images)\n",
    "        plt.figure(figsize=(4*n, 4))\n",
    "        for i, (img, label) in enumerate(zip(images, labels)):\n",
    "            plt.subplot(1, n, i+1)\n",
    "            plt.imshow(img)\n",
    "            plt.axis(\"off\")\n",
    "            steer_val = extract_steer_value(label)\n",
    "            plt.title(f\"$\\\\alpha$={steer_val}\", fontsize=10)  # alpha symbol\n",
    "\n",
    "        # add main title = filename\n",
    "        # plt.suptitle(chosen_file, fontsize=12, y=1.02)\n",
    "\n",
    "        plt.tight_layout(rect=[0, 0, 1, 0.95])  # prevent clipping\n",
    "\n",
    "        # save figure\n",
    "        save_filename = f\"{os.path.splitext(chosen_file)[0]}_comparison.png\"\n",
    "        save_path = os.path.join(save_dir, save_filename)\n",
    "        plt.savefig(save_path, bbox_inches=\"tight\")\n",
    "        plt.close()\n",
    "\n",
    "        saved_plots.append(save_filename)\n",
    "\n",
    "    print(f\"All plots saved in: {os.path.abspath(save_dir)}\")\n",
    "    return saved_plots\n",
    "\n",
    "def list_saved_plots(save_dir: str = \"plots_output\"):\n",
    "    \"\"\"List all saved plots in the output directory.\"\"\"\n",
    "    if not os.path.exists(save_dir):\n",
    "        raise FileNotFoundError(f\"{save_dir} not found.\")\n",
    "    plots = [f for f in os.listdir(save_dir) if f.endswith(\"_comparison.png\")]\n",
    "    print(\"Available plots:\", plots)\n",
    "    return plots\n",
    "\n",
    "def load_saved_plot(filename: str, save_dir: str = \"plots_output\"):\n",
    "    \"\"\"\n",
    "    Load and display a saved plot by filename.\n",
    "\n",
    "    Args:\n",
    "        filename (str): Filename of saved plot (e.g. '00001_comparison.png').\n",
    "        save_dir (str): Directory where plots were saved.\n",
    "    \"\"\"\n",
    "    file_path = os.path.join(save_dir, filename)\n",
    "    if not os.path.exists(file_path):\n",
    "        raise FileNotFoundError(f\"{file_path} not found.\")\n",
    "\n",
    "    img = mpimg.imread(file_path)\n",
    "    plt.figure(figsize=(10, 6))\n",
    "    plt.imshow(img)\n",
    "    plt.axis(\"off\")\n",
    "    plt.show()\n"
   ]
  },
  {
   "cell_type": "markdown",
   "id": "A0UpbLMElwQp",
   "metadata": {
    "id": "A0UpbLMElwQp"
   },
   "source": [
    "### Plot figures"
   ]
  },
  {
   "cell_type": "code",
   "execution_count": null,
   "id": "Sas1bdqvlyyq",
   "metadata": {
    "colab": {
     "base_uri": "https://localhost:8080/"
    },
    "id": "Sas1bdqvlyyq",
    "outputId": "805dcf12-5331-4c30-b344-8ea0beecc4ba"
   },
   "outputs": [],
   "source": [
    "# Example usage:\n",
    "folder = f\"{PROMPT_THEME}_experiments\"\n",
    "save_dir = os.path.join(folder, \"new_outputs\")\n",
    "\n",
    "# Generate and save all comparison plots\n",
    "saved = plot_all_param_images(folder, save_dir=save_dir)"
   ]
  },
  {
   "cell_type": "markdown",
   "id": "B1R9Tf4ellWH",
   "metadata": {
    "id": "B1R9Tf4ellWH"
   },
   "source": [
    "### Load plot"
   ]
  },
  {
   "cell_type": "code",
   "execution_count": null,
   "id": "FKyx78gklmQB",
   "metadata": {
    "colab": {
     "base_uri": "https://localhost:8080/",
     "height": 285
    },
    "id": "FKyx78gklmQB",
    "outputId": "3c7a0ace-b2d7-4e41-c898-174bddb5bca1"
   },
   "outputs": [],
   "source": [
    "# List what was saved\n",
    "available = list_saved_plots(save_dir)\n",
    "path = random.sample(available, 1)[0]\n",
    "\n",
    "print(path)\n",
    "\n",
    "# Load one saved plot\n",
    "if available:\n",
    "    load_saved_plot(path, save_dir=save_dir)"
   ]
  },
  {
   "cell_type": "code",
   "execution_count": null,
   "id": "6v88trzRmWD2",
   "metadata": {
    "id": "6v88trzRmWD2"
   },
   "outputs": [],
   "source": []
  }
 ],
 "metadata": {
  "accelerator": "GPU",
  "colab": {
   "collapsed_sections": [
    "szlwoMd8lj_O"
   ],
   "gpuType": "L4",
   "machine_shape": "hm",
   "provenance": []
  },
  "kernelspec": {
   "display_name": "Python 3",
   "name": "python3"
  },
  "language_info": {
   "codemirror_mode": {
    "name": "ipython",
    "version": 3
   },
   "file_extension": ".py",
   "mimetype": "text/x-python",
   "name": "python",
   "nbconvert_exporter": "python",
   "pygments_lexer": "ipython3",
   "version": "3.12.11"
  }
 },
 "nbformat": 4,
 "nbformat_minor": 5
}
